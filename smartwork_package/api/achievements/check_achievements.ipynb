{
 "cells": [
  {
   "cell_type": "code",
   "execution_count": 1,
   "metadata": {},
   "outputs": [],
   "source": [
    "from elasticsearch import Elasticsearch, helpers\n",
    "from datetime import datetime\n",
    "import pandas as pd"
   ]
  },
  {
   "cell_type": "code",
   "execution_count": 2,
   "metadata": {},
   "outputs": [
    {
     "data": {
      "text/plain": [
       "ObjectApiResponse({'education': {'aliases': {}}, 'data_description': {'aliases': {}}, 'achievements': {'aliases': {}}, 'activity': {'aliases': {}}, 'log': {'aliases': {}}, 'appsettings': {'aliases': {}}, 'exercise': {'aliases': {}}, 'baseline': {'aliases': {}}, 'plan': {'aliases': {}}, 'account': {'aliases': {}}})"
      ]
     },
     "execution_count": 2,
     "metadata": {},
     "output_type": "execute_result"
    }
   ],
   "source": [
    "es = Elasticsearch(\"http://localhost:9400\",basic_auth=(\"elastic\",\"secret\"),verify_certs=False)\n",
    "es.indices.get_alias(index=\"*\")"
   ]
  },
  {
   "cell_type": "code",
   "execution_count": 14,
   "metadata": {},
   "outputs": [],
   "source": [
    "#engang\n",
    "def complete_goal(userid,goalid):\n",
    "    #possible goal ids\n",
    "    #SetGoalSetting,SetSleepTool,UseMindfulness,QACompleted,SessionCompleted\n",
    "    res = es.get(index=\"achievements\", \n",
    "          id=userid+\"_\"+goalid)\n",
    "    print(res)\n",
    "    id=res[\"_id\"]\n",
    "    res=res[\"_source\"]\n",
    "    res[\"progress\"]=1\n",
    "    res[\"achievedat\"]=1\n",
    "    es.update(index='achievements',id=id,\n",
    "                doc=res)\n"
   ]
  },
  {
   "cell_type": "code",
   "execution_count": 15,
   "metadata": {},
   "outputs": [
    {
     "name": "stdout",
     "output_type": "stream",
     "text": [
      "{'_index': 'achievements', '_id': 'thea_SetGoalSetting', '_version': 1, '_seq_no': 0, '_primary_term': 1, 'found': True, '_source': {'userid': 'thea', 'achievementid': 'SetGoalSetting', 'progress': 0, 'goal': 1, 'achievedat': -1}}\n"
     ]
    }
   ],
   "source": [
    "complete_goal(\"thea\",\"SetGoalSetting\")"
   ]
  },
  {
   "cell_type": "code",
   "execution_count": 21,
   "metadata": {},
   "outputs": [],
   "source": [
    "def complete_quiz(userid):\n",
    "    correct=es.search(index=\"education\",query={\"bool\":\n",
    "                                          {\"must\":[\n",
    "                                              {\"match\":{\"is_correct\":True}},\n",
    "                                                {\"match\":{\"userid\":\"carmela\"}}\n",
    "                                          ]\n",
    "                                         \n",
    "                                          }}\n",
    "    ,size=900).body[\"hits\"][\"hits\"]\n",
    "    num_correct=len(correct)\n",
    "    for i in [1,2,7,14,25]:\n",
    "        if num_correct>=i:\n",
    "          complete_goal(userid,\"EducationalCorrectQuiz\"+str(i))\n",
    "        else:\n",
    "           break"
   ]
  },
  {
   "cell_type": "code",
   "execution_count": 35,
   "metadata": {},
   "outputs": [],
   "source": [
    "def total_steps(userid):\n",
    "    res = es.search(index=\"activity\", query={'match' : {\"userid\":userid}},size=10000)[\"hits\"][\"hits\"]\n",
    "    steps=list(map(lambda x: x[\"_source\"][\"steps\"],res))\n",
    "    total_steps=sum(steps)\n",
    "    for i in [42.195,50,100,200,400,600,800,1000]:\n",
    "        if total_steps>=i*1000:\n",
    "            if i == 42.195:\n",
    "                complete_goal(userid,\"Marathon\")\n",
    "            else:\n",
    "                complete_goal(userid,\"TotalSteps\"+str(i))\n",
    "        else:\n",
    "           break"
   ]
  },
  {
   "cell_type": "code",
   "execution_count": 34,
   "metadata": {},
   "outputs": [],
   "source": [
    "total_steps(\"thea\")"
   ]
  },
  {
   "cell_type": "code",
   "execution_count": 8,
   "metadata": {},
   "outputs": [],
   "source": [
    "#gjennomfør alle 3 aktivitetene(antall ganger)\n",
    "#1,3,7,14,25,40"
   ]
  },
  {
   "cell_type": "code",
   "execution_count": 9,
   "metadata": {},
   "outputs": [],
   "source": [
    "#korrekt svar på quiz(antall ganger)\n",
    "#1,3,7,14,25"
   ]
  },
  {
   "cell_type": "code",
   "execution_count": 10,
   "metadata": {},
   "outputs": [],
   "source": [
    "#lest godt å vite"
   ]
  },
  {
   "cell_type": "code",
   "execution_count": 11,
   "metadata": {},
   "outputs": [
    {
     "data": {
      "text/plain": [
       "'2024-07-20T15:52:00'"
      ]
     },
     "execution_count": 11,
     "metadata": {},
     "output_type": "execute_result"
    }
   ],
   "source": [
    "datetime.fromtimestamp(1721483520000/1000).isoformat()"
   ]
  },
  {
   "cell_type": "code",
   "execution_count": 12,
   "metadata": {},
   "outputs": [],
   "source": [
    "res_achievements = es.search(index=\"achievements\", query={'match' : {\"userid\":\"user\"}},size=10000)[\"hits\"][\"hits\"][0]"
   ]
  },
  {
   "cell_type": "code",
   "execution_count": null,
   "metadata": {},
   "outputs": [],
   "source": []
  },
  {
   "cell_type": "code",
   "execution_count": 13,
   "metadata": {},
   "outputs": [
    {
     "data": {
      "text/html": [
       "<div>\n",
       "<style scoped>\n",
       "    .dataframe tbody tr th:only-of-type {\n",
       "        vertical-align: middle;\n",
       "    }\n",
       "\n",
       "    .dataframe tbody tr th {\n",
       "        vertical-align: top;\n",
       "    }\n",
       "\n",
       "    .dataframe thead th {\n",
       "        text-align: right;\n",
       "    }\n",
       "</style>\n",
       "<table border=\"1\" class=\"dataframe\">\n",
       "  <thead>\n",
       "    <tr style=\"text-align: right;\">\n",
       "      <th></th>\n",
       "      <th>start</th>\n",
       "      <th>end</th>\n",
       "      <th>type</th>\n",
       "      <th>steps</th>\n",
       "      <th>userid</th>\n",
       "    </tr>\n",
       "  </thead>\n",
       "  <tbody>\n",
       "    <tr>\n",
       "      <th>0</th>\n",
       "      <td>2024-07-21 13:40:00</td>\n",
       "      <td>2024-07-21 14:28:00</td>\n",
       "      <td>current</td>\n",
       "      <td>14000</td>\n",
       "      <td>user</td>\n",
       "    </tr>\n",
       "    <tr>\n",
       "      <th>1</th>\n",
       "      <td>2024-07-15 10:00:00</td>\n",
       "      <td>2024-07-15 11:00:00</td>\n",
       "      <td>walking</td>\n",
       "      <td>200</td>\n",
       "      <td>user</td>\n",
       "    </tr>\n",
       "    <tr>\n",
       "      <th>2</th>\n",
       "      <td>2024-07-16 11:00:00</td>\n",
       "      <td>2024-07-16 12:00:00</td>\n",
       "      <td>walking</td>\n",
       "      <td>196</td>\n",
       "      <td>user</td>\n",
       "    </tr>\n",
       "    <tr>\n",
       "      <th>3</th>\n",
       "      <td>2024-07-18 10:00:00</td>\n",
       "      <td>2024-07-18 11:00:00</td>\n",
       "      <td>walking</td>\n",
       "      <td>2000</td>\n",
       "      <td>user</td>\n",
       "    </tr>\n",
       "    <tr>\n",
       "      <th>4</th>\n",
       "      <td>2024-07-18 03:00:00</td>\n",
       "      <td>2024-07-18 04:00:00</td>\n",
       "      <td>walking</td>\n",
       "      <td>400</td>\n",
       "      <td>user</td>\n",
       "    </tr>\n",
       "    <tr>\n",
       "      <th>5</th>\n",
       "      <td>2024-07-19 11:00:00</td>\n",
       "      <td>2024-07-19 12:00:00</td>\n",
       "      <td>walking</td>\n",
       "      <td>5679</td>\n",
       "      <td>user</td>\n",
       "    </tr>\n",
       "    <tr>\n",
       "      <th>6</th>\n",
       "      <td>2024-07-20 15:00:00</td>\n",
       "      <td>2024-07-20 16:00:00</td>\n",
       "      <td>walking</td>\n",
       "      <td>2000</td>\n",
       "      <td>user</td>\n",
       "    </tr>\n",
       "    <tr>\n",
       "      <th>7</th>\n",
       "      <td>2024-07-21 14:00:00</td>\n",
       "      <td>2024-07-21 15:00:00</td>\n",
       "      <td>walking</td>\n",
       "      <td>6000</td>\n",
       "      <td>user</td>\n",
       "    </tr>\n",
       "    <tr>\n",
       "      <th>8</th>\n",
       "      <td>2024-07-21 13:00:00</td>\n",
       "      <td>2024-07-21 14:00:00</td>\n",
       "      <td>walking</td>\n",
       "      <td>8000</td>\n",
       "      <td>user</td>\n",
       "    </tr>\n",
       "    <tr>\n",
       "      <th>9</th>\n",
       "      <td>2024-08-12 15:01:00</td>\n",
       "      <td>2024-08-12 15:02:00</td>\n",
       "      <td>current</td>\n",
       "      <td>102000</td>\n",
       "      <td>user</td>\n",
       "    </tr>\n",
       "  </tbody>\n",
       "</table>\n",
       "</div>"
      ],
      "text/plain": [
       "                start                 end     type   steps userid\n",
       "0 2024-07-21 13:40:00 2024-07-21 14:28:00  current   14000   user\n",
       "1 2024-07-15 10:00:00 2024-07-15 11:00:00  walking     200   user\n",
       "2 2024-07-16 11:00:00 2024-07-16 12:00:00  walking     196   user\n",
       "3 2024-07-18 10:00:00 2024-07-18 11:00:00  walking    2000   user\n",
       "4 2024-07-18 03:00:00 2024-07-18 04:00:00  walking     400   user\n",
       "5 2024-07-19 11:00:00 2024-07-19 12:00:00  walking    5679   user\n",
       "6 2024-07-20 15:00:00 2024-07-20 16:00:00  walking    2000   user\n",
       "7 2024-07-21 14:00:00 2024-07-21 15:00:00  walking    6000   user\n",
       "8 2024-07-21 13:00:00 2024-07-21 14:00:00  walking    8000   user\n",
       "9 2024-08-12 15:01:00 2024-08-12 15:02:00  current  102000   user"
      ]
     },
     "execution_count": 13,
     "metadata": {},
     "output_type": "execute_result"
    }
   ],
   "source": [
    "completed_achievements=[]\n",
    "res = es.search(index=\"activity\", query={'match' : {\"userid\":\"user\"}},size=10000)[\"hits\"][\"hits\"]\n",
    "res=list(map(lambda x: x[\"_source\"],res))\n",
    "df=pd.DataFrame(res)\n",
    "df.start=df.start.apply(lambda x: datetime.fromtimestamp(x/1000))\n",
    "df.end=df.end.apply(lambda x: datetime.fromtimestamp(x/1000))\n",
    "df"
   ]
  },
  {
   "cell_type": "code",
   "execution_count": 95,
   "metadata": {},
   "outputs": [],
   "source": [
    "#max steps per day\n",
    "def max_steps_per_day(userid,df):\n",
    "    steps_per_day=df.groupby(df.start.dt.floor('1D')).steps.sum()\n",
    "    for i in [10,12,14,16,18,20]:\n",
    "        res = es.search(index=\"achievements\", \n",
    "            query={\"bool\":{\"must\":[\n",
    "                {'match' : \n",
    "                    {\"userid\":userid}},\n",
    "                {'match' : \n",
    "                    {\"achievementid\":\"DailyRecordSteps\"+str(i)}}\n",
    "            ]}},size=10000)[\"hits\"][\"hits\"][0]\n",
    "        id=res[\"_id\"]\n",
    "        res=res[\"_source\"]\n",
    "        res[\"progress\"]=steps_per_day.max()\n",
    "        if steps_per_day.max()>=i*1000:\n",
    "            res[\"achievedat\"]=1\n",
    "        es.update(index='achievements',id=id,doc=res)"
   ]
  },
  {
   "cell_type": "code",
   "execution_count": 18,
   "metadata": {},
   "outputs": [],
   "source": [
    "def total_steps(userid):\n",
    "    completed_achievements=[]\n",
    "    res = es.search(index=\"activity\", query={'match' : {\"userid\":userid}},size=10000)[\"hits\"][\"hits\"]\n",
    "    res=list(map(lambda x: x[\"_source\"],res))\n",
    "    df=pd.DataFrame(res)\n",
    "    df.start=df.start.apply(lambda x: datetime.fromtimestamp(x/1000))\n",
    "    df.end=df.end.apply(lambda x: datetime.fromtimestamp(x/1000))\n",
    "    df\n",
    "    display(df)\n",
    "    for i in [50,100,200,400,600,800,1000,42.195]:\n",
    "        if i!=42.195:\n",
    "            ach_id=\"TotalSteps\"+str(i)\n",
    "        else:\n",
    "            ach_id=\"Marathon\"\n",
    "        res = es.search(index=\"achievements\", \n",
    "            query={\"bool\":{\"must\":[\n",
    "                {'match' : \n",
    "                    {\"userid\":userid}},\n",
    "                {'match' : \n",
    "                    {\"achievementid\":ach_id}}\n",
    "            ]}},size=10000)[\"hits\"][\"hits\"][0]\n",
    "        print(res)\n",
    "        id=res[\"_id\"]\n",
    "        res=res[\"_source\"]\n",
    "        if ach_id==\"Marathon\":\n",
    "            res[\"progress\"]=0\n",
    "        else:\n",
    "            res[\"progress\"]=df.steps.sum()\n",
    "            print(df.steps.sum())\n",
    "        if df.steps.sum()>=i*1000:\n",
    "            res[\"achievedat\"]=1\n",
    "        print(res)\n",
    "        es.update(index='achievements',id=id,doc=res)"
   ]
  },
  {
   "cell_type": "code",
   "execution_count": null,
   "metadata": {},
   "outputs": [],
   "source": [
    "total_steps(\"user\")"
   ]
  },
  {
   "cell_type": "code",
   "execution_count": 14,
   "metadata": {},
   "outputs": [],
   "source": [
    "def avg_steps_per_week(userid):\n",
    "    res = es.search(index=\"activity\", query={'match' : {\"userid\":userid}},size=10000)[\"hits\"][\"hits\"]\n",
    "    res=list(map(lambda x: x[\"_source\"],res))\n",
    "    df=pd.DataFrame(res)\n",
    "    df.start=df.start.apply(lambda x: datetime.fromtimestamp(x/1000))\n",
    "    df.end=df.end.apply(lambda x: datetime.fromtimestamp(x/1000))\n",
    "    # display(df[df.start > datetime.now() - pd.to_timedelta(\"7day\")])\n",
    "    for i in [5,6,8,10,12]:\n",
    "        res = es.search(index=\"achievements\", \n",
    "            query={\"bool\":{\"must\":[\n",
    "                {'match' : \n",
    "                    {\"userid\":userid}},\n",
    "                {'match' : \n",
    "                    {\"achievementid\":\"AverageStepsWeek\"+str(i)}}\n",
    "            ]}},size=10000)[\"hits\"][\"hits\"][0]\n",
    "        id=res[\"_id\"]\n",
    "        res=res[\"_source\"]\n",
    "        average=df.steps.sum()/7\n",
    "        res[\"progress\"]=average\n",
    "        if average>=i*1000:\n",
    "            res[\"achievedat\"]=1\n",
    "        es.update(index='achievements',id=id,doc=res)"
   ]
  },
  {
   "cell_type": "code",
   "execution_count": 15,
   "metadata": {},
   "outputs": [],
   "source": [
    "avg_steps_per_week(\"user\")"
   ]
  },
  {
   "cell_type": "code",
   "execution_count": 30,
   "metadata": {},
   "outputs": [],
   "source": [
    "def steps_in_a_day(userid):\n",
    "    res = es.search(index=\"activity\", query={'match' : {\"userid\":userid}},size=10000)[\"hits\"][\"hits\"]\n",
    "    res=list(map(lambda x: x[\"_source\"],res))\n",
    "    df=pd.DataFrame(res)\n",
    "    df.start=df.start.apply(lambda x: datetime.fromtimestamp(x/1000))\n",
    "    df.end=df.end.apply(lambda x: datetime.fromtimestamp(x/1000))\n",
    "    max_steps_in_a_day=df.groupby(df.start.dt.date).steps.sum().max()\n",
    "    for i in [10,12,14,16,18,20]:\n",
    "        res = es.search(index=\"achievements\", \n",
    "            query={\"bool\":{\"must\":[\n",
    "                {'match' : \n",
    "                    {\"userid\":userid}},\n",
    "                {'match' : \n",
    "                    {\"achievementid\":\"DailyRecordSteps\"+str(i)}}\n",
    "            ]}},size=10000)[\"hits\"][\"hits\"][0]\n",
    "        id=res[\"_id\"]\n",
    "        res=res[\"_source\"]\n",
    "        res[\"progress\"]=max_steps_in_a_day\n",
    "        if max_steps_in_a_day>=i*1000:\n",
    "            res[\"achievedat\"]=1\n",
    "            es.update(index='achievements',id=id,doc=res)\n",
    "        else:\n",
    "            break"
   ]
  },
  {
   "cell_type": "code",
   "execution_count": 29,
   "metadata": {},
   "outputs": [
    {
     "name": "stdout",
     "output_type": "stream",
     "text": [
      "{'_index': 'achievements', '_id': '2Ig21ZABlNYZt4JGnoYK', '_score': 3.4720056, '_source': {'userid': 'user', 'achievementid': 'DailyRecordSteps10', 'progress': 204000, 'goal': 10000, 'achievedat': 1}}\n",
      "204000\n",
      "{'_index': 'achievements', '_id': '2Yg21ZABlNYZt4JGnoYK', '_score': 3.4720056, '_source': {'userid': 'user', 'achievementid': 'DailyRecordSteps12', 'progress': 204000, 'goal': 12000, 'achievedat': 1}}\n",
      "204000\n",
      "{'_index': 'achievements', '_id': '2og21ZABlNYZt4JGnoYK', '_score': 3.4720056, '_source': {'userid': 'user', 'achievementid': 'DailyRecordSteps14', 'progress': 204000, 'goal': 14000, 'achievedat': 1}}\n",
      "204000\n",
      "{'_index': 'achievements', '_id': '24g21ZABlNYZt4JGnoYK', '_score': 3.4720056, '_source': {'userid': 'user', 'achievementid': 'DailyRecordSteps16', 'progress': 204000, 'goal': 16000, 'achievedat': 1}}\n",
      "204000\n",
      "{'_index': 'achievements', '_id': '3Ig21ZABlNYZt4JGnoYK', '_score': 3.4720056, '_source': {'userid': 'user', 'achievementid': 'DailyRecordSteps18', 'progress': 204000, 'goal': 18000, 'achievedat': 1}}\n",
      "204000\n",
      "{'_index': 'achievements', '_id': '3Yg21ZABlNYZt4JGnoYK', '_score': 3.4720056, '_source': {'userid': 'user', 'achievementid': 'DailyRecordSteps20', 'progress': 204000, 'goal': 20000, 'achievedat': 1}}\n",
      "204000\n"
     ]
    }
   ],
   "source": [
    "steps_in_a_day(\"user\")"
   ]
  },
  {
   "cell_type": "code",
   "execution_count": null,
   "metadata": {},
   "outputs": [],
   "source": []
  },
  {
   "cell_type": "code",
   "execution_count": 47,
   "metadata": {},
   "outputs": [],
   "source": [
    "def daily_goal_met(userid):\n",
    "    res = es.search(index=\"activity\", query={'match' : {\"userid\":userid}},size=10000)[\"hits\"][\"hits\"]\n",
    "    res=list(map(lambda x: x[\"_source\"],res))\n",
    "    df=pd.DataFrame(res)\n",
    "    df.start=df.start.apply(lambda x: datetime.fromtimestamp(x/1000))\n",
    "    df.end=df.end.apply(lambda x: datetime.fromtimestamp(x/1000))\n",
    "    sums_days=df.groupby(df.start.dt.date).steps.sum()\n",
    "    goals=list(map(lambda x:{\"start\":x[\"_source\"][\"start\"],\"end\":x[\"_source\"][\"end\"],\"goal\":x[\"_source\"][\"plan\"][\"activity\"][\"goal\"]},es.search(index=\"plan\", query={'match' : {\"userid\":\"user\"}},sort=[\n",
    "    {\n",
    "      \"start\": {\n",
    "        \"order\": \"desc\"\n",
    "      }\n",
    "    }\n",
    "  ],size=10000)[\"hits\"][\"hits\"]))#[-1]\n",
    "    display(df)\n",
    "    print(goals)\n",
    "    # num_reached=0\n",
    "    # for goal in goals:\n",
    "    #     temp_df=df.loc[(df.start>goal[\"start\"]) & (df.end<goal[\"end\"])]\n",
    "    #     if temp_df.steps.sum()>=goal[\"goal\"]:\n",
    "    #         num_reached+=1\n",
    "\n",
    "    # for i in [1,3,7,14,25,40,60,80,100]:\n",
    "    #     res = es.search(index=\"achievements\", \n",
    "    #             query={\"bool\":{\"must\":[\n",
    "    #                 {'match' : \n",
    "    #                     {\"userid\":userid}},\n",
    "    #                 {'match' : \n",
    "    #                     {\"achievementid\":\"DailyGoalSteps\"+str(i)}}\n",
    "    #             ]}},size=10000)[\"hits\"][\"hits\"][0]\n",
    "    #     id=res[\"_id\"]\n",
    "    #     res=res[\"_source\"]\n",
    "    #     res[\"progress\"]=num_reached\n",
    "    #     if num_reached>=i:\n",
    "    #         res[\"achievedat\"]=1\n",
    "    #     print(res)\n",
    "        # es.update(index='achievements',id=id,doc=res)"
   ]
  },
  {
   "cell_type": "code",
   "execution_count": 48,
   "metadata": {},
   "outputs": [
    {
     "data": {
      "text/html": [
       "<div>\n",
       "<style scoped>\n",
       "    .dataframe tbody tr th:only-of-type {\n",
       "        vertical-align: middle;\n",
       "    }\n",
       "\n",
       "    .dataframe tbody tr th {\n",
       "        vertical-align: top;\n",
       "    }\n",
       "\n",
       "    .dataframe thead th {\n",
       "        text-align: right;\n",
       "    }\n",
       "</style>\n",
       "<table border=\"1\" class=\"dataframe\">\n",
       "  <thead>\n",
       "    <tr style=\"text-align: right;\">\n",
       "      <th></th>\n",
       "      <th>start</th>\n",
       "      <th>end</th>\n",
       "      <th>type</th>\n",
       "      <th>steps</th>\n",
       "      <th>userid</th>\n",
       "    </tr>\n",
       "  </thead>\n",
       "  <tbody>\n",
       "    <tr>\n",
       "      <th>0</th>\n",
       "      <td>2024-07-21 13:40:00</td>\n",
       "      <td>2024-07-21 14:28:00</td>\n",
       "      <td>current</td>\n",
       "      <td>14000</td>\n",
       "      <td>user</td>\n",
       "    </tr>\n",
       "    <tr>\n",
       "      <th>1</th>\n",
       "      <td>2024-07-15 10:00:00</td>\n",
       "      <td>2024-07-15 11:00:00</td>\n",
       "      <td>walking</td>\n",
       "      <td>200</td>\n",
       "      <td>user</td>\n",
       "    </tr>\n",
       "    <tr>\n",
       "      <th>2</th>\n",
       "      <td>2024-07-16 11:00:00</td>\n",
       "      <td>2024-07-16 12:00:00</td>\n",
       "      <td>walking</td>\n",
       "      <td>196</td>\n",
       "      <td>user</td>\n",
       "    </tr>\n",
       "    <tr>\n",
       "      <th>3</th>\n",
       "      <td>2024-07-18 10:00:00</td>\n",
       "      <td>2024-07-18 11:00:00</td>\n",
       "      <td>walking</td>\n",
       "      <td>2000</td>\n",
       "      <td>user</td>\n",
       "    </tr>\n",
       "    <tr>\n",
       "      <th>4</th>\n",
       "      <td>2024-07-18 03:00:00</td>\n",
       "      <td>2024-07-18 04:00:00</td>\n",
       "      <td>walking</td>\n",
       "      <td>400</td>\n",
       "      <td>user</td>\n",
       "    </tr>\n",
       "    <tr>\n",
       "      <th>5</th>\n",
       "      <td>2024-07-19 11:00:00</td>\n",
       "      <td>2024-07-19 12:00:00</td>\n",
       "      <td>walking</td>\n",
       "      <td>5679</td>\n",
       "      <td>user</td>\n",
       "    </tr>\n",
       "    <tr>\n",
       "      <th>6</th>\n",
       "      <td>2024-07-20 15:00:00</td>\n",
       "      <td>2024-07-20 16:00:00</td>\n",
       "      <td>walking</td>\n",
       "      <td>2000</td>\n",
       "      <td>user</td>\n",
       "    </tr>\n",
       "    <tr>\n",
       "      <th>7</th>\n",
       "      <td>2024-07-21 14:00:00</td>\n",
       "      <td>2024-07-21 15:00:00</td>\n",
       "      <td>walking</td>\n",
       "      <td>6000</td>\n",
       "      <td>user</td>\n",
       "    </tr>\n",
       "    <tr>\n",
       "      <th>8</th>\n",
       "      <td>2024-07-21 13:00:00</td>\n",
       "      <td>2024-07-21 14:00:00</td>\n",
       "      <td>walking</td>\n",
       "      <td>8000</td>\n",
       "      <td>user</td>\n",
       "    </tr>\n",
       "    <tr>\n",
       "      <th>9</th>\n",
       "      <td>2024-08-12 15:01:00</td>\n",
       "      <td>2024-08-12 15:02:00</td>\n",
       "      <td>current</td>\n",
       "      <td>102000</td>\n",
       "      <td>user</td>\n",
       "    </tr>\n",
       "    <tr>\n",
       "      <th>10</th>\n",
       "      <td>2024-08-12 15:00:00</td>\n",
       "      <td>2024-08-12 16:00:00</td>\n",
       "      <td>walking</td>\n",
       "      <td>102000</td>\n",
       "      <td>user</td>\n",
       "    </tr>\n",
       "  </tbody>\n",
       "</table>\n",
       "</div>"
      ],
      "text/plain": [
       "                 start                 end     type   steps userid\n",
       "0  2024-07-21 13:40:00 2024-07-21 14:28:00  current   14000   user\n",
       "1  2024-07-15 10:00:00 2024-07-15 11:00:00  walking     200   user\n",
       "2  2024-07-16 11:00:00 2024-07-16 12:00:00  walking     196   user\n",
       "3  2024-07-18 10:00:00 2024-07-18 11:00:00  walking    2000   user\n",
       "4  2024-07-18 03:00:00 2024-07-18 04:00:00  walking     400   user\n",
       "5  2024-07-19 11:00:00 2024-07-19 12:00:00  walking    5679   user\n",
       "6  2024-07-20 15:00:00 2024-07-20 16:00:00  walking    2000   user\n",
       "7  2024-07-21 14:00:00 2024-07-21 15:00:00  walking    6000   user\n",
       "8  2024-07-21 13:00:00 2024-07-21 14:00:00  walking    8000   user\n",
       "9  2024-08-12 15:01:00 2024-08-12 15:02:00  current  102000   user\n",
       "10 2024-08-12 15:00:00 2024-08-12 16:00:00  walking  102000   user"
      ]
     },
     "metadata": {},
     "output_type": "display_data"
    },
    {
     "name": "stdout",
     "output_type": "stream",
     "text": [
      "[{'start': '2024-08-12T11:55:24.206245', 'end': '2024-08-19T23:59:59.999999', 'goal': 3000}]\n"
     ]
    }
   ],
   "source": [
    "daily_goal_met(\"user\")"
   ]
  },
  {
   "cell_type": "code",
   "execution_count": null,
   "metadata": {},
   "outputs": [],
   "source": [
    "#nå daglig mål for skritt(på rad) + for en hel uke\n",
    "#3,7,14,25,40"
   ]
  },
  {
   "cell_type": "code",
   "execution_count": 59,
   "metadata": {},
   "outputs": [
    {
     "data": {
      "text/plain": [
       "{'start': '2024-07-21T11:43:50.657581',\n",
       " 'end': '2024-07-28T23:59:59.999999',\n",
       " 'goal': 3000}"
      ]
     },
     "execution_count": 59,
     "metadata": {},
     "output_type": "execute_result"
    }
   ],
   "source": [
    "goals=list(map(lambda x:{\"start\":x[\"_source\"][\"start\"],\"end\":x[\"_source\"][\"end\"],\"goal\":x[\"_source\"][\"plan\"][\"activity\"][\"goal\"]},es.search(index=\"plan\", query={'match' : {\"userid\":\"user\"}},size=10000)[\"hits\"][\"hits\"]))#[-1]\n",
    "\n",
    "\n",
    "\n",
    "reached=True\n",
    "days_in_a_row=0\n",
    "initial_date=datetime.now().date()\n",
    "while reached:\n"
   ]
  },
  {
   "cell_type": "code",
   "execution_count": null,
   "metadata": {},
   "outputs": [],
   "source": [
    "#gjennomsnittlig antall skritt på en uke\n",
    "#5,6,8,10,12"
   ]
  }
 ],
 "metadata": {
  "kernelspec": {
   "display_name": ".venv",
   "language": "python",
   "name": "python3"
  },
  "language_info": {
   "codemirror_mode": {
    "name": "ipython",
    "version": 3
   },
   "file_extension": ".py",
   "mimetype": "text/x-python",
   "name": "python",
   "nbconvert_exporter": "python",
   "pygments_lexer": "ipython3",
   "version": "3.9.19"
  }
 },
 "nbformat": 4,
 "nbformat_minor": 2
}

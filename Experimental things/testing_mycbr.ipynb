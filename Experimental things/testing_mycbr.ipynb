{
 "cells": [
  {
   "cell_type": "code",
   "execution_count": 129,
   "metadata": {},
   "outputs": [],
   "source": [
    "import requests\n",
    "import json\n",
    "import pandas as pd"
   ]
  },
  {
   "cell_type": "code",
   "execution_count": 130,
   "metadata": {},
   "outputs": [],
   "source": [
    "base_url=\"http://localhost:8080/\""
   ]
  },
  {
   "cell_type": "code",
   "execution_count": 131,
   "metadata": {},
   "outputs": [],
   "source": [
    "##add cases\n",
    "headers = {'Content-type':'application/json'}\n",
    "\n",
    "# add cases to casebase\n",
    "def add_rows_as_cases(x, concept, casebase):\n",
    "    case_id = 'case-' + str(x['index'])\n",
    "    x = x.drop(['index'])\n",
    "    print(case_id, x.to_json())\n",
    "    response=requests.post(base_url + 'concepts/' + concept + '/casebases/' + casebase +'/cases/' + case_id, data = str(x.to_json()), headers=headers)\n",
    "    print(response.json())\n",
    "\n",
    "# add cases to casebase from dataframe\n",
    "def add_cases_from_df(df, concept, casebase):  \n",
    "    tmp = df.copy(deep=True)\n",
    "    tmp.reset_index(inplace=True)\n",
    "    tmp.apply(add_rows_as_cases, args=(concept, casebase), axis=1)\n",
    "\n",
    "def delete_all_cases_from_cb(concept, casebase):\n",
    "    requests.delete(base_url + 'concepts/' + concept + '/casebases/' + casebase +'/cases')"
   ]
  },
  {
   "cell_type": "code",
   "execution_count": 132,
   "metadata": {},
   "outputs": [],
   "source": [
    "delete_all_cases_from_cb('Case', 'sbcases')"
   ]
  },
  {
   "cell_type": "code",
   "execution_count": 133,
   "metadata": {},
   "outputs": [],
   "source": [
    "steps=[\"0:361\",\"0:234\",\"0:55,1:65\"]\n",
    "steps_df=pd.DataFrame(steps, columns=['steps'])"
   ]
  },
  {
   "cell_type": "code",
   "execution_count": 134,
   "metadata": {},
   "outputs": [
    {
     "name": "stdout",
     "output_type": "stream",
     "text": [
      "case-0 {\"steps\":\"0:361\"}\n",
      "True\n",
      "case-1 {\"steps\":\"0:234\"}\n",
      "True\n",
      "case-2 {\"steps\":\"0:55,1:65\"}\n",
      "True\n"
     ]
    }
   ],
   "source": [
    "add_cases_from_df(steps_df, 'Case', 'sbcases')"
   ]
  },
  {
   "cell_type": "code",
   "execution_count": 135,
   "metadata": {},
   "outputs": [
    {
     "data": {
      "text/plain": [
       "{'steps': 'StringDesc'}"
      ]
     },
     "execution_count": 135,
     "metadata": {},
     "output_type": "execute_result"
    }
   ],
   "source": [
    "requests.get(base_url + 'concepts/' + \"Case\" + '/attributes').json()"
   ]
  },
  {
   "cell_type": "code",
   "execution_count": 136,
   "metadata": {},
   "outputs": [
    {
     "data": {
      "text/plain": [
       "[{'similarity': '1.0', 'caseID': 'case-1', 'steps': '0:234;'},\n",
       " {'similarity': '1.0', 'caseID': 'case-2', 'steps': '0:55/n1:65;'},\n",
       " {'similarity': '1.0', 'caseID': 'case-0', 'steps': '0:361;'}]"
      ]
     },
     "execution_count": 136,
     "metadata": {},
     "output_type": "execute_result"
    }
   ],
   "source": [
    "requests.get( url= base_url+'/concepts/' + \"Case\" + '/casebases/' + \"sbcases\" + '/cases' ).json()"
   ]
  },
  {
   "cell_type": "code",
   "execution_count": 137,
   "metadata": {},
   "outputs": [
    {
     "name": "stdout",
     "output_type": "stream",
     "text": [
      "['only_steps']\n"
     ]
    }
   ],
   "source": [
    "#list amalgamation functions\n",
    "response=requests.get(\"http://localhost:8080/concepts/Case/amalgamationFunctions\",\n",
    "    )\n",
    "print(response.json())"
   ]
  },
  {
   "cell_type": "code",
   "execution_count": 138,
   "metadata": {},
   "outputs": [
    {
     "data": {
      "text/plain": [
       "<Response [200]>"
      ]
     },
     "execution_count": 138,
     "metadata": {},
     "output_type": "execute_result"
    }
   ],
   "source": [
    "#add amalgamationfunction\n",
    "requests.put(\"http://localhost:8080/\" + 'concepts/' + \"Case\" + '/amalgamationFunctions?amalgamationFunctionID=' + \"only_steps\" + '&amalgamationFunctionType=' + \"WEIGHTED_SUM\" + '&attributeWeightsJSON=' + json.dumps({\"steps\":1}))"
   ]
  },
  {
   "cell_type": "code",
   "execution_count": 139,
   "metadata": {},
   "outputs": [
    {
     "data": {
      "text/plain": [
       "[{'steps': 1.0}]"
      ]
     },
     "execution_count": 139,
     "metadata": {},
     "output_type": "execute_result"
    }
   ],
   "source": [
    "requests.get(base_url + 'analytics/' + 'concepts/' + \"Case\" + '/amalgamationFunctions/only_steps/globalWeights?amalgamationFunctionID=' + \"only_steps\").json()"
   ]
  },
  {
   "cell_type": "code",
   "execution_count": 140,
   "metadata": {},
   "outputs": [
    {
     "name": "stdout",
     "output_type": "stream",
     "text": [
      "['only_steps']\n"
     ]
    }
   ],
   "source": [
    "#list amalgamation functions\n",
    "response=requests.get(\"http://localhost:8080/concepts/Case/amalgamationFunctions\",\n",
    "    )\n",
    "print(response.json())"
   ]
  },
  {
   "cell_type": "code",
   "execution_count": 141,
   "metadata": {},
   "outputs": [
    {
     "name": "stdout",
     "output_type": "stream",
     "text": [
      "{'levenshteinAddCost': 1, 'multipleconfig': {'mainType': 'PARTNER_QUERY', 'reuse': 'REUSE', 'type': 'MAX'}, 'levenshteinDelCost': 1, 'caseSensitive': True, 'levenshteinChangeCost': 1, 'name': 'default function', 'project': 'miniproject', 'isSymmetric': True, 'attribute': 'steps', 'config': 'EQUALITY', 'n': 3}\n"
     ]
    }
   ],
   "source": [
    "#check similarity functions\n",
    "response=requests.get(\"http://localhost:8080/concepts/Case/attributes/steps/similarityFunctions/active\",\n",
    "    )\n",
    "print(response.json())"
   ]
  },
  {
   "cell_type": "code",
   "execution_count": 142,
   "metadata": {},
   "outputs": [
    {
     "name": "stdout",
     "output_type": "stream",
     "text": [
      "True\n"
     ]
    }
   ],
   "source": [
    "# set similarity function\n",
    "response=requests.put(\"http://localhost:8080/concepts/Case/attributes/steps/sequence/similarityFunctions/test_sequence\",\n",
    "                      json={\"maxDiff\":1000}\n",
    "    )\n",
    "print(response.json())"
   ]
  },
  {
   "cell_type": "code",
   "execution_count": 143,
   "metadata": {},
   "outputs": [
    {
     "name": "stdout",
     "output_type": "stream",
     "text": [
      "{'name': 'test_sequence'}\n"
     ]
    }
   ],
   "source": [
    "#check similarity functions\n",
    "response=requests.get(\"http://localhost:8080/concepts/Case/attributes/steps/similarityFunctions/active\",\n",
    "    )\n",
    "print(response.json())"
   ]
  },
  {
   "cell_type": "code",
   "execution_count": 148,
   "metadata": {},
   "outputs": [
    {
     "name": "stdout",
     "output_type": "stream",
     "text": [
      "[{'similarity': '0.9937', 'caseID': 'case-0', 'steps': '0:361;'}, {'similarity': '0.9936', 'caseID': 'case-1', 'steps': '0:234;'}, {'similarity': '0.0', 'caseID': 'case-2', 'steps': '0:55/n1:65;'}]\n"
     ]
    }
   ],
   "source": [
    "response=requests.post(\"http://localhost:8080/concepts/Case/casebases/sbcases/amalgamationFunctions/only_steps/retrievalByMultipleAttributes\",\n",
    "                      json={\"steps\":\"0:298\"},\n",
    "                      # json={\"Dem_age\":103,\"BT_PSS\":8,\"BIPQ_life\":9},\n",
    "                    # json={'SelfManagement_Exercise': 'pain_02_01;flex_01_01;glut_01_01;core_03_02;'},\n",
    "                      params={\"k\":8}\n",
    "    )\n",
    "print(response.json())\n",
    "# for j in response.json():\n",
    "#     print(j[\"caseID\"])\n",
    "#     print(j[\"Dem_age\"]\n"
   ]
  },
  {
   "cell_type": "code",
   "execution_count": 69,
   "metadata": {},
   "outputs": [
    {
     "name": "stdout",
     "output_type": "stream",
     "text": [
      "['only_steps']\n"
     ]
    }
   ],
   "source": [
    "response=requests.get(\"http://localhost:8080/concepts/Case/amalgamationFunctions\",\n",
    "    )\n",
    "print(response.json())"
   ]
  },
  {
   "cell_type": "code",
   "execution_count": 70,
   "metadata": {},
   "outputs": [],
   "source": [
    "json_file={'Activity_StepCount': 1,\n",
    " 'BIPQ_concern': 0,\n",
    " 'BIPQ_control': 0,\n",
    " 'BIPQ_emotion': 0,\n",
    " 'BIPQ_life': 0,\n",
    " 'BIPQ_pain_continuation': 0,\n",
    " 'BIPQ_selfmanagement': 0,\n",
    " 'BIPQ_symptoms': 0,\n",
    " 'BIPQ_understanding': 0,\n",
    " 'BT_PHQ_2item': 0,\n",
    " 'BT_PSEQ_2item': 0,\n",
    " 'BT_PSS': 0,\n",
    " 'BT_pain_average': 0,\n",
    " 'BT_wai': 0,\n",
    " 'Comorbidities': 0,\n",
    " 'Dem_age': 0,\n",
    " 'Dem_bmi': 0,\n",
    " 'Dem_gender': 0,\n",
    " 'Dem_height': 0,\n",
    " 'Dem_weight': 0,\n",
    " 'EQ5D': 0,\n",
    " 'EQ5D_activity': 0,\n",
    " 'EQ5D_anxiety': 0,\n",
    " 'EQ5D_mobility': 0,\n",
    " 'EQ5D_pain': 0,\n",
    " 'EQ5D_selfcare': 0,\n",
    " 'Education': 0,\n",
    " 'Employment': 0,\n",
    " 'FABQ': 0,\n",
    " 'FABQ_lbp_cause': 0,\n",
    " 'F_GPE': 0,\n",
    " 'F_PASS': 0,\n",
    " 'Family': 0,\n",
    " 'MSKHQ': 0,\n",
    " 'NDI': 0,\n",
    " 'PSFS_activity': 0,\n",
    " 'PSFS_activity_name': 0,\n",
    " 'PSFS_score': 0,\n",
    " 'PSS': 0,\n",
    " 'Pain_1year': 0,\n",
    " 'Pain_medication': 0,\n",
    " 'Pain_self_efficacy': 0,\n",
    " 'Pain_sites': 0,\n",
    " 'Pain_worst': 0,\n",
    " 'Primary_pain_site': 0,\n",
    " 'RMDQ': 0,\n",
    " 'SaltinGrimby': 0,\n",
    " 'SelfManagement_Activity': 0,\n",
    " 'SelfManagement_Education': 0,\n",
    " 'SelfManagement_Exercise': 0,\n",
    " 'Sleep_day': 0,\n",
    " 'Sleep_difficulty': 0,\n",
    " 'Sleep_end': 0,\n",
    " 'Sleep_wakeup': 0,\n",
    " 'T_barriers': 0,\n",
    " 'T_cpg_function': 0,\n",
    " 'T_sleep': 0,\n",
    " 'T_tampa_fear': 0,\n",
    " 'Work_characteristics': 0}"
   ]
  },
  {
   "cell_type": "code",
   "execution_count": 71,
   "metadata": {},
   "outputs": [
    {
     "name": "stdout",
     "output_type": "stream",
     "text": [
      "{\"Activity_StepCount\": 1, \"BIPQ_concern\": 0, \"BIPQ_control\": 0, \"BIPQ_emotion\": 0, \"BIPQ_life\": 0, \"BIPQ_pain_continuation\": 0, \"BIPQ_selfmanagement\": 0, \"BIPQ_symptoms\": 0, \"BIPQ_understanding\": 0, \"BT_PHQ_2item\": 0, \"BT_PSEQ_2item\": 0, \"BT_PSS\": 0, \"BT_pain_average\": 0, \"BT_wai\": 0, \"Comorbidities\": 0, \"Dem_age\": 0, \"Dem_bmi\": 0, \"Dem_gender\": 0, \"Dem_height\": 0, \"Dem_weight\": 0, \"EQ5D\": 0, \"EQ5D_activity\": 0, \"EQ5D_anxiety\": 0, \"EQ5D_mobility\": 0, \"EQ5D_pain\": 0, \"EQ5D_selfcare\": 0, \"Education\": 0, \"Employment\": 0, \"FABQ\": 0, \"FABQ_lbp_cause\": 0, \"F_GPE\": 0, \"F_PASS\": 0, \"Family\": 0, \"MSKHQ\": 0, \"NDI\": 0, \"PSFS_activity\": 0, \"PSFS_activity_name\": 0, \"PSFS_score\": 0, \"PSS\": 0, \"Pain_1year\": 0, \"Pain_medication\": 0, \"Pain_self_efficacy\": 0, \"Pain_sites\": 0, \"Pain_worst\": 0, \"Primary_pain_site\": 0, \"RMDQ\": 0, \"SaltinGrimby\": 0, \"SelfManagement_Activity\": 0, \"SelfManagement_Education\": 0, \"SelfManagement_Exercise\": 0, \"Sleep_day\": 0, \"Sleep_difficulty\": 0, \"Sleep_end\": 0, \"Sleep_wakeup\": 0, \"T_barriers\": 0, \"T_cpg_function\": 0, \"T_sleep\": 0, \"T_tampa_fear\": 0, \"Work_characteristics\": 0}\n"
     ]
    }
   ],
   "source": [
    "json_string = json.dumps(json_file)\n",
    "print(json_string)"
   ]
  },
  {
   "cell_type": "code",
   "execution_count": 72,
   "metadata": {},
   "outputs": [
    {
     "data": {
      "text/plain": [
       "<Response [200]>"
      ]
     },
     "execution_count": 72,
     "metadata": {},
     "output_type": "execute_result"
    }
   ],
   "source": [
    "requests.put(\"http://localhost:8080/\" + 'concepts/' + \"Case\" + '/amalgamationFunctions?amalgamationFunctionID=' + \"only_steps\" + '&amalgamationFunctionType=' + \"WEIGHTED_SUM\" + '&attributeWeightsJSON=' + json_string)"
   ]
  },
  {
   "cell_type": "code",
   "execution_count": 73,
   "metadata": {},
   "outputs": [
    {
     "name": "stdout",
     "output_type": "stream",
     "text": [
      "{'timestamp': '2025-01-02T10:02:02.824+0000', 'status': 500, 'error': 'Internal Server Error', 'message': 'No message available', 'path': '/concepts/Case/attributes/Activity_StepCount/similarityFunctions/active'}\n"
     ]
    }
   ],
   "source": [
    "response=requests.get(\"http://localhost:8080/concepts/Case/attributes/Activity_StepCount/similarityFunctions/active\",\n",
    "    )\n",
    "print(response.json())"
   ]
  },
  {
   "cell_type": "code",
   "execution_count": 74,
   "metadata": {},
   "outputs": [
    {
     "name": "stdout",
     "output_type": "stream",
     "text": [
      "{'timestamp': '2025-01-02T10:02:02.869+0000', 'status': 500, 'error': 'Internal Server Error', 'message': 'No message available', 'path': '/concepts/Case/attributes/Activity_StepCount/sequence/similarityFunctions/test_sequence'}\n"
     ]
    }
   ],
   "source": [
    "response=requests.put(\"http://localhost:8080/concepts/Case/attributes/Activity_StepCount/sequence/similarityFunctions/test_sequence\",\n",
    "    )\n",
    "print(response.json())"
   ]
  },
  {
   "cell_type": "code",
   "execution_count": 75,
   "metadata": {},
   "outputs": [
    {
     "name": "stdout",
     "output_type": "stream",
     "text": [
      "{'timestamp': '2025-01-02T10:02:02.882+0000', 'status': 500, 'error': 'Internal Server Error', 'message': 'No message available', 'path': '/concepts/Case/attributes/Activity_StepCount/sequence/similarityFunctions/test_sequence'}\n"
     ]
    }
   ],
   "source": [
    "response=requests.put(\"http://localhost:8080/concepts/Case/attributes/Activity_StepCount/sequence/similarityFunctions/test_sequence\",\n",
    "    )\n",
    "print(response.json())"
   ]
  },
  {
   "cell_type": "code",
   "execution_count": 76,
   "metadata": {},
   "outputs": [
    {
     "data": {
      "text/plain": [
       "{'bt_pain_average': 4,\n",
       " 'bt_pain_average_prev': 5,\n",
       " 't_cpg_function': 5,\n",
       " 't_cpg_function_prev': 5,\n",
       " 't_tampa_fear': 4,\n",
       " 'bt_wai': 4,\n",
       " 't_sleep': 'Sometimes',\n",
       " 'bt_pseq_2item': 5,\n",
       " 'bt_pss': 12,\n",
       " 'bt_phq_2item': 2,\n",
       " 't_barriers': 'too_tired',\n",
       " 'used': ['potato'],\n",
       " 'canbequiz': ['salad'],\n",
       " 'thisweek': ['Cause of LBP_5', 'Cause of LBP_4', 'Problem solving_4']}"
      ]
     },
     "execution_count": 76,
     "metadata": {},
     "output_type": "execute_result"
    }
   ],
   "source": [
    "{\n",
    "                                            \"bt_pain_average\": 4,\n",
    "                                            \"bt_pain_average_prev\": 5,\n",
    "                                            \"t_cpg_function\": 5,\n",
    "                                            \"t_cpg_function_prev\": 5,\n",
    "                                            \"t_tampa_fear\": 4,\n",
    "                                            \"bt_wai\": 4,\n",
    "                                            \"t_sleep\": \"Sometimes\",\n",
    "                                            \"bt_pseq_2item\": 5,\n",
    "                                            \"bt_pss\": 12,\n",
    "                                            \"bt_phq_2item\": 2,\n",
    "                                            \"t_barriers\": \"too_tired\",\n",
    "                                            \"used\": [\"potato\"],\n",
    "                                            \"canbequiz\": [\"salad\"],\n",
    "                                            \"thisweek\":[\"Cause of LBP_5\",\"Cause of LBP_4\",\"Problem solving_4\"]\n",
    "                                            }"
   ]
  }
 ],
 "metadata": {
  "kernelspec": {
   "display_name": ".venv",
   "language": "python",
   "name": "python3"
  },
  "language_info": {
   "codemirror_mode": {
    "name": "ipython",
    "version": 3
   },
   "file_extension": ".py",
   "mimetype": "text/x-python",
   "name": "python",
   "nbconvert_exporter": "python",
   "pygments_lexer": "ipython3",
   "version": "3.9.20"
  },
  "orig_nbformat": 4
 },
 "nbformat": 4,
 "nbformat_minor": 2
}

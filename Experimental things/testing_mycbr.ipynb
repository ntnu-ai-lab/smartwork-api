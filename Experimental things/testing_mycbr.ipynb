{
 "cells": [
  {
   "cell_type": "code",
   "execution_count": 1,
   "metadata": {},
   "outputs": [],
   "source": [
    "import requests"
   ]
  },
  {
   "cell_type": "code",
   "execution_count": 33,
   "metadata": {},
   "outputs": [
    {
     "name": "stdout",
     "output_type": "stream",
     "text": [
      "[{'similarity': '0.7214430959030594', 'caseID': 'case_22_101', 'Activity_StepCount': '3:10025;2:14264;1:14141;0:10790;', 'BIPQ_concern': '6', 'BIPQ_control': '9', 'BIPQ_emotion': '2', 'BIPQ_life': '1', 'BIPQ_pain_continuation': '4', 'BIPQ_selfmanagement': '9', 'BIPQ_symptoms': '5', 'BIPQ_understanding': '7', 'BT_PHQ_2item': '0', 'BT_PSEQ_2item': '12', 'BT_PSS': '5', 'BT_pain_average': '4:6;3:6;2:4;1:3;0:3;', 'BT_wai': '9', 'Comorbidities': '_unknown_', 'Dem_age': '23', 'Dem_bmi': '32.0', 'Dem_gender': 'male', 'Dem_height': '187.0', 'Dem_weight': '115.0', 'EQ5D': '85', 'EQ5D_activity': 'no_problem', 'EQ5D_anxiety': 'not_anxious', 'EQ5D_mobility': 'no_problem', 'EQ5D_pain': 'slight_pain', 'EQ5D_selfcare': 'no_problem', 'Education': '12Years', 'Employment': 'Full-time', 'FABQ': '0', 'FABQ_lbp_cause': '0', 'F_GPE': '_unknown_', 'F_PASS': '_unknown_', 'Family': 'parents;', 'MSKHQ': '10', 'NDI': '7', 'PSFS_activity': '_unknown_', 'PSFS_activity_name': 'Wandelen', 'PSFS_score': '10', 'PSS': '15', 'Pain_1year': 'Everyday', 'Pain_medication': 'Less than once a week', 'Pain_self_efficacy': '59', 'Pain_sites': 'Neck;Shoulder;', 'Pain_worst': '7', 'Primary_pain_site': 'NP', 'RMDQ': '1', 'SaltinGrimby': 'Level_2', 'SelfManagement_Activity': '9000', 'SelfManagement_Education': 'Guideline LBP_3;Relaxation_2;Daily activity_2;Accepting pain_1;Start exercise_9;Stay active_10;Reassurance_7;Pain rating_1;', 'SelfManagement_Exercise': 'core_04_02;flex_01_09;flex_01_01;', 'Sleep_day': 'Sometimes', 'Sleep_difficulty': 'Sometimes', 'Sleep_end': 'Sometimes', 'Sleep_wakeup': 'Seldom-never', 'T_barriers': '_unknown_', 'T_cpg_function': '3:2;1:0;', 'T_sleep': '_unknown_', 'T_tampa_fear': '_unknown_', 'Work_characteristics': 'Sitting'}, {'similarity': '0.7214430959030594', 'caseID': 'case_29_910', 'Activity_StepCount': '4:10025;3:14264;2:14141;1:10790;0:10115;', 'BIPQ_concern': '6', 'BIPQ_control': '9', 'BIPQ_emotion': '2', 'BIPQ_life': '1', 'BIPQ_pain_continuation': '4', 'BIPQ_selfmanagement': '9', 'BIPQ_symptoms': '5', 'BIPQ_understanding': '7', 'BT_PHQ_2item': '0', 'BT_PSEQ_2item': '12', 'BT_PSS': '5', 'BT_pain_average': '5:6;4:6;3:4;2:3;1:3;0:1;', 'BT_wai': '9', 'Comorbidities': '_unknown_', 'Dem_age': '23', 'Dem_bmi': '32.0', 'Dem_gender': 'male', 'Dem_height': '187.0', 'Dem_weight': '115.0', 'EQ5D': '85', 'EQ5D_activity': 'no_problem', 'EQ5D_anxiety': 'not_anxious', 'EQ5D_mobility': 'no_problem', 'EQ5D_pain': 'slight_pain', 'EQ5D_selfcare': 'no_problem', 'Education': '12Years', 'Employment': 'Full-time', 'FABQ': '0', 'FABQ_lbp_cause': '0', 'F_GPE': '_unknown_', 'F_PASS': '_unknown_', 'Family': 'parents;', 'MSKHQ': '10', 'NDI': '7', 'PSFS_activity': '_unknown_', 'PSFS_activity_name': 'Wandelen', 'PSFS_score': '10', 'PSS': '15', 'Pain_1year': 'Everyday', 'Pain_medication': 'Less than once a week', 'Pain_self_efficacy': '59', 'Pain_sites': 'Neck;Shoulder;', 'Pain_worst': '7', 'Primary_pain_site': 'NP', 'RMDQ': '1', 'SaltinGrimby': 'Level_2', 'SelfManagement_Activity': '9500', 'SelfManagement_Education': 'Problem solving_4;FA Reassurance_4;Thoughts_4;Relaxation_5;Cause of LBP_2;Imaging_1;Reassurance_2;Stay active_2;', 'SelfManagement_Exercise': 'core_04_02;flex_01_09;neck_02_01;', 'Sleep_day': 'Sometimes', 'Sleep_difficulty': 'Sometimes', 'Sleep_end': 'Sometimes', 'Sleep_wakeup': 'Seldom-never', 'T_barriers': '_unknown_', 'T_cpg_function': '4:2;2:0;0:1;', 'T_sleep': '_unknown_', 'T_tampa_fear': '_unknown_', 'Work_characteristics': 'Sitting'}, {'similarity': '0.6730158294450277', 'caseID': 'case_21_102', 'Activity_StepCount': '2:10740;1:9524;0:5865;', 'BIPQ_concern': '6', 'BIPQ_control': '2', 'BIPQ_emotion': '7', 'BIPQ_life': '7', 'BIPQ_pain_continuation': '8', 'BIPQ_selfmanagement': '5', 'BIPQ_symptoms': '6', 'BIPQ_understanding': '2', 'BT_PHQ_2item': '2', 'BT_PSEQ_2item': '8', 'BT_PSS': '4', 'BT_pain_average': '3:1;2:1;1:3;0:3;', 'BT_wai': '7', 'Comorbidities': 'Other;', 'Dem_age': '71', 'Dem_bmi': '27.0', 'Dem_gender': 'male', 'Dem_height': '170.0', 'Dem_weight': '79.0', 'EQ5D': '70', 'EQ5D_activity': 'slight_problem', 'EQ5D_anxiety': 'slightly_anxious', 'EQ5D_mobility': 'slight_problem', 'EQ5D_pain': 'slight_pain', 'EQ5D_selfcare': 'no_problem', 'Education': 'Above13', 'Employment': 'Part-time', 'FABQ': '7', 'FABQ_lbp_cause': '1', 'F_GPE': '_unknown_', 'F_PASS': '_unknown_', 'Family': 'spouse;', 'MSKHQ': '19', 'NDI': '8', 'PSFS_activity': '_unknown_', 'PSFS_activity_name': 'werken achter de computer', 'PSFS_score': '7', 'PSS': '18', 'Pain_1year': '30days', 'Pain_medication': 'Never-seldom', 'Pain_self_efficacy': '45', 'Pain_sites': 'Neck;Shoulder;Upper Back;Low Back;Knees;Ankles Feet;', 'Pain_worst': '1', 'Primary_pain_site': 'LBP_NP', 'RMDQ': '7', 'SaltinGrimby': 'Level_3', 'SelfManagement_Activity': '6000', 'SelfManagement_Education': 'Relaxation_5;Daily activity_4;Accepting pain_3;Problem solving_4;Me time_1;FA Reassurance_4;Thoughts_4;Distraction_3;', 'SelfManagement_Exercise': 'core_03_01;glut_01_02;flex_01_09;', 'Sleep_day': 'Sometimes', 'Sleep_difficulty': 'Sometimes', 'Sleep_end': 'Sometimes', 'Sleep_wakeup': 'Several times a week', 'T_barriers': '_unknown_', 'T_cpg_function': '2:2;0:3;', 'T_sleep': '_unknown_', 'T_tampa_fear': '_unknown_', 'Work_characteristics': 'Sitting'}, {'similarity': '0.65557411958678', 'caseID': 'case_31_105', 'Activity_StepCount': '0:66;', 'BIPQ_concern': '7', 'BIPQ_control': '6', 'BIPQ_emotion': '6', 'BIPQ_life': '3', 'BIPQ_pain_continuation': '8', 'BIPQ_selfmanagement': '8', 'BIPQ_symptoms': '8', 'BIPQ_understanding': '7', 'BT_PHQ_2item': '0', 'BT_PSEQ_2item': '10', 'BT_PSS': '2', 'BT_pain_average': '1:2;0:2;', 'BT_wai': '9', 'Comorbidities': '_unknown_', 'Dem_age': '46', 'Dem_bmi': '22.0', 'Dem_gender': 'male', 'Dem_height': '200.0', 'Dem_weight': '90.0', 'EQ5D': '94', 'EQ5D_activity': 'no_problem', 'EQ5D_anxiety': 'not_anxious', 'EQ5D_mobility': 'no_problem', 'EQ5D_pain': 'slight_pain', 'EQ5D_selfcare': 'slight_problem', 'Education': 'Above13', 'Employment': 'Full-time', 'FABQ': '11', 'FABQ_lbp_cause': '6', 'F_GPE': '_unknown_', 'F_PASS': '_unknown_', 'Family': 'spouse;children_6_to_15;', 'MSKHQ': '12', 'NDI': '0', 'PSFS_activity': '_unknown_', 'PSFS_activity_name': 'Werken in de tuin, klussen', 'PSFS_score': '3', 'PSS': '12', 'Pain_1year': '30days', 'Pain_medication': 'Never-seldom', 'Pain_self_efficacy': '50', 'Pain_sites': 'Low Back;', 'Pain_worst': '4', 'Primary_pain_site': 'LBP', 'RMDQ': '8', 'SaltinGrimby': 'Level_3', 'SelfManagement_Activity': '4000', 'SelfManagement_Education': 'Cause of LBP_5;Imaging_2;Reassurance_5;Distraction_5;Distress_1;FA Reassurance_5;FA Stay active_7;Relaxation_1;', 'SelfManagement_Exercise': 'core_02_01;flex_01_09;glut_01_02;', 'Sleep_day': 'Seldom-never', 'Sleep_difficulty': 'Seldom-never', 'Sleep_end': 'Seldom-never', 'Sleep_wakeup': 'Seldom-never', 'T_barriers': 'none;', 'T_cpg_function': '0:0;', 'T_sleep': '_unknown_', 'T_tampa_fear': '_unknown_', 'Work_characteristics': 'Sitting'}, {'similarity': '0.6377169767296371', 'caseID': 'case_34_103', 'Activity_StepCount': '1:66;0:0;', 'BIPQ_concern': '7', 'BIPQ_control': '6', 'BIPQ_emotion': '6', 'BIPQ_life': '3', 'BIPQ_pain_continuation': '8', 'BIPQ_selfmanagement': '8', 'BIPQ_symptoms': '8', 'BIPQ_understanding': '7', 'BT_PHQ_2item': '0', 'BT_PSEQ_2item': '10', 'BT_PSS': '2', 'BT_pain_average': '2:2;1:2;0:1;', 'BT_wai': '9', 'Comorbidities': '_unknown_', 'Dem_age': '46', 'Dem_bmi': '22.0', 'Dem_gender': 'male', 'Dem_height': '200.0', 'Dem_weight': '90.0', 'EQ5D': '94', 'EQ5D_activity': 'no_problem', 'EQ5D_anxiety': 'not_anxious', 'EQ5D_mobility': 'no_problem', 'EQ5D_pain': 'slight_pain', 'EQ5D_selfcare': 'slight_problem', 'Education': 'Above13', 'Employment': 'Full-time', 'FABQ': '11', 'FABQ_lbp_cause': '6', 'F_GPE': '_unknown_', 'F_PASS': '_unknown_', 'Family': 'spouse;children_6_to_15;', 'MSKHQ': '12', 'NDI': '0', 'PSFS_activity': '_unknown_', 'PSFS_activity_name': 'Werken in de tuin, klussen', 'PSFS_score': '3', 'PSS': '12', 'Pain_1year': '30days', 'Pain_medication': 'Never-seldom', 'Pain_self_efficacy': '50', 'Pain_sites': 'Low Back;', 'Pain_worst': '4', 'Primary_pain_site': 'LBP', 'RMDQ': '8', 'SaltinGrimby': 'Level_3', 'SelfManagement_Activity': '3500', 'SelfManagement_Education': 'FA Reassurance_5;Relaxation_1;Reassurance_5;FA Stay active_7;Cause of LBP_2;Guideline LBP_2;Stay active_2;Start exercise_2;', 'SelfManagement_Exercise': 'core_03_01;flex_01_09;flex_01_03;', 'Sleep_day': 'Seldom-never', 'Sleep_difficulty': 'Seldom-never', 'Sleep_end': 'Seldom-never', 'Sleep_wakeup': 'Seldom-never', 'T_barriers': 'none;', 'T_cpg_function': '1:0;', 'T_sleep': '_unknown_', 'T_tampa_fear': '0', 'Work_characteristics': 'Sitting'}]\n"
     ]
    }
   ],
   "source": [
    "response=requests.post(\"http://localhost:8080/concepts/Case/casebases/sbcases/amalgamationFunctions/SMP_Education/retrievalByMultipleAttributes\",\n",
    "                      json={'Dem_age': '42', \n",
    "                            'Dem_gender': 'male', \n",
    "                            'Dem_height': '175', \n",
    "                            'Pain_worst': '3', \n",
    "                            'Dem_weight': '88', \n",
    "                            'BT_pain_average': '1', \n",
    "                            'Education': 'Above13', \n",
    "                            'BIPQ_life': '2', \n",
    "                            'BIPQ_selfmanagement': '7', \n",
    "                            'BIPQ_symptoms': '2', \n",
    "                            'BIPQ_pain_continuation': '7', \n",
    "                            'BIPQ_control': '8', \n",
    "                            'Work_characteristics': 'Sitting', \n",
    "                            'EQ5D_activity': 'no_problem', \n",
    "                            'Pain_1year': '30days', \n",
    "                            'Pain_medication': 'Never-seldom', \n",
    "                            'EQ5D_selfcare': 'no_problem', \n",
    "                            'Sleep_difficulty': 'Sometimes', \n",
    "                            'Sleep_wakeup': 'Seldom-never', \n",
    "                            'Sleep_end': 'Seldom-never', \n",
    "                            'Sleep_day': 'Several times a week', \n",
    "                            'SaltinGrimby': 'Level_2', \n",
    "                            'EQ5D': '70', \n",
    "                            'BIPQ_emotion': '1', \n",
    "                            'BIPQ_concern': '2', \n",
    "                            'BIPQ_understanding': '7', \n",
    "                            'EQ5D_anxiety': 'slightly_anxious', \n",
    "                            'BT_wai': '9', \n",
    "                            'EQ5D_mobility': 'no_problem', \n",
    "                            'FABQ_lbp_cause': '1', \n",
    "                            'Employment': 'Part-time', \n",
    "                            'EQ5D_pain': 'slight_pain', \n",
    "                            'Dem_bmi': '28', 'Family': \n",
    "                            'spouse;children_6_to_15;children_over_15;', \n",
    "                            'RMDQ': '1', \n",
    "                            'PSFS_activity_name': 'test1', \n",
    "                            'PSFS_score': '9', \n",
    "                            'PSFS_activity': '_unknown_', \n",
    "                            # 'PSFS': 'test1;_unknown_;9;test2;_unknown_;9;', \n",
    "                            'Pain_sites': 'Neck;Shoulder;Upper Back;Low Back;Wrist Hands;Hips Thighs;', \n",
    "                            'Comorbidities': 'Osteoporosis;Depression;', \n",
    "                            'FABQ': '2', \n",
    "                            'Pain_self_efficacy': '54', \n",
    "                            'BT_PSEQ_2item': '11', \n",
    "                            'PSS': '18', \n",
    "                            'BT_PSS': '7', \n",
    "                            'BT_PHQ_2item': '2', \n",
    "                            'MSKHQ': '8', \n",
    "                            'NDI': '7', \n",
    "                            'Primary_pain_site': 'NP'},\n",
    "                      params={\"k\":5}\n",
    "    )\n",
    "print(response.json())"
   ]
  },
  {
   "cell_type": "code",
   "execution_count": 14,
   "metadata": {},
   "outputs": [
    {
     "name": "stdout",
     "output_type": "stream",
     "text": [
      "['AllAtts', 'SMP_Exercise', 'exercise_sim', 'SMP_Activity', 'Global', 'SMP_Education']\n"
     ]
    }
   ],
   "source": [
    "response=requests.get(\"http://localhost:8080/concepts/Case/amalgamationFunctions/SMP_Exercise\",\n",
    "    )\n",
    "print(response.json())"
   ]
  },
  {
   "cell_type": "code",
   "execution_count": null,
   "metadata": {},
   "outputs": [],
   "source": [
    "{\n",
    "                                            \"bt_pain_average\": 4,\n",
    "                                            \"bt_pain_average_prev\": 5,\n",
    "                                            \"t_cpg_function\": 5,\n",
    "                                            \"t_cpg_function_prev\": 5,\n",
    "                                            \"t_tampa_fear\": 4,\n",
    "                                            \"bt_wai\": 4,\n",
    "                                            \"t_sleep\": \"Sometimes\",\n",
    "                                            \"bt_pseq_2item\": 5,\n",
    "                                            \"bt_pss\": 12,\n",
    "                                            \"bt_phq_2item\": 2,\n",
    "                                            \"t_barriers\": \"too_tired\",\n",
    "                                            \"used\": [\"potato\"],\n",
    "                                            \"canbequiz\": [\"salad\"],\n",
    "                                            \"thisweek\":[\"Cause of LBP_5\",\"Cause of LBP_4\",\"Problem solving_4\"]\n",
    "                                            }"
   ]
  }
 ],
 "metadata": {
  "kernelspec": {
   "display_name": ".venv",
   "language": "python",
   "name": "python3"
  },
  "language_info": {
   "codemirror_mode": {
    "name": "ipython",
    "version": 3
   },
   "file_extension": ".py",
   "mimetype": "text/x-python",
   "name": "python",
   "nbconvert_exporter": "python",
   "pygments_lexer": "ipython3",
   "version": "3.9.18"
  },
  "orig_nbformat": 4
 },
 "nbformat": 4,
 "nbformat_minor": 2
}
